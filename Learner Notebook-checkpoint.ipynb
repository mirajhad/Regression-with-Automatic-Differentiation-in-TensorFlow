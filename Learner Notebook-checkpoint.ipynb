{
 "cells": [
  {
   "cell_type": "markdown",
   "metadata": {
    "colab_type": "text",
    "id": "t53jP8uAemXu"
   },
   "source": [
    "# Regression with Automatic Differentiation in TensorFlow"
   ]
  },
  {
   "cell_type": "markdown",
   "metadata": {
    "colab_type": "text",
    "id": "QGjXvUdcemXw"
   },
   "source": [
    "# Task 1: TensorFlow"
   ]
  },
  {
   "cell_type": "code",
   "execution_count": 3,
   "metadata": {
    "colab": {
     "base_uri": "https://localhost:8080/",
     "height": 50
    },
    "colab_type": "code",
    "id": "TtDgZK3lemXx",
    "outputId": "77be4d31-1bf3-4aa2-cd75-6de95d71f850"
   },
   "outputs": [
    {
     "name": "stdout",
     "output_type": "stream",
     "text": [
      "Using TensorFlow version: 2.2.0\n",
      "Devices available: [PhysicalDevice(name='/physical_device:CPU:0', device_type='CPU'), PhysicalDevice(name='/physical_device:XLA_CPU:0', device_type='XLA_CPU')]\n"
     ]
    }
   ],
   "source": [
    "import tensorflow as tf\n",
    "import numpy as np\n",
    "import matplotlib.pyplot as plt\n",
    "%matplotlib inline\n",
    "\n",
    "print('Using TensorFlow version:', tf.__version__)\n",
    "print('Devices available:', tf.config.list_physical_devices())"
   ]
  },
  {
   "cell_type": "markdown",
   "metadata": {
    "colab_type": "text",
    "id": "yeJJgtrVemX1"
   },
   "source": [
    "# Task 2: Constants"
   ]
  },
  {
   "cell_type": "code",
   "execution_count": 4,
   "metadata": {
    "colab": {
     "base_uri": "https://localhost:8080/",
     "height": 34
    },
    "colab_type": "code",
    "id": "43yEzEx4emX2",
    "outputId": "a0ee3e76-3194-420b-d7d4-4e758e307ea5"
   },
   "outputs": [
    {
     "data": {
      "text/plain": [
       "<tf.Tensor: shape=(1, 3), dtype=int32, numpy=array([[1, 2, 4]])>"
      ]
     },
     "execution_count": 4,
     "metadata": {},
     "output_type": "execute_result"
    }
   ],
   "source": [
    "tf.constant([[1, 2, 4]])"
   ]
  },
  {
   "cell_type": "code",
   "execution_count": 5,
   "metadata": {
    "colab": {
     "base_uri": "https://localhost:8080/",
     "height": 34
    },
    "colab_type": "code",
    "id": "eqsbdFrgemX5",
    "outputId": "be3a9bd2-4e86-4300-8635-7da28ab3f08f"
   },
   "outputs": [
    {
     "data": {
      "text/plain": [
       "<tf.Tensor: shape=(1, 3), dtype=int32, numpy=array([[1, 2, 3]])>"
      ]
     },
     "execution_count": 5,
     "metadata": {},
     "output_type": "execute_result"
    }
   ],
   "source": [
    "tf.convert_to_tensor([[1, 2, 3]])"
   ]
  },
  {
   "cell_type": "code",
   "execution_count": 6,
   "metadata": {
    "colab": {
     "base_uri": "https://localhost:8080/",
     "height": 34
    },
    "colab_type": "code",
    "id": "_9INFP-UemX9",
    "outputId": "10b6f9c7-af32-4ea2-8411-5434480d29c4"
   },
   "outputs": [
    {
     "data": {
      "text/plain": [
       "<tf.Tensor: shape=(1, 3), dtype=float32, numpy=array([[1., 2., 3.]], dtype=float32)>"
      ]
     },
     "execution_count": 6,
     "metadata": {},
     "output_type": "execute_result"
    }
   ],
   "source": [
    "tf.convert_to_tensor([[1, 2, 3]], dtype=tf.float32)"
   ]
  },
  {
   "cell_type": "code",
   "execution_count": 7,
   "metadata": {
    "colab": {
     "base_uri": "https://localhost:8080/",
     "height": 34
    },
    "colab_type": "code",
    "id": "znTS24MZemYB",
    "outputId": "67fea087-829c-43e2-876b-c9787bbc5f33"
   },
   "outputs": [
    {
     "data": {
      "text/plain": [
       "array([[1, 2, 3]])"
      ]
     },
     "execution_count": 7,
     "metadata": {},
     "output_type": "execute_result"
    }
   ],
   "source": [
    "tf.convert_to_tensor([[1, 2, 3]]).numpy()"
   ]
  },
  {
   "cell_type": "markdown",
   "metadata": {
    "colab_type": "text",
    "id": "nJfEQ58nemYE"
   },
   "source": [
    "# Task 3: Variables"
   ]
  },
  {
   "cell_type": "code",
   "execution_count": 8,
   "metadata": {
    "colab": {
     "base_uri": "https://localhost:8080/",
     "height": 34
    },
    "colab_type": "code",
    "id": "Zll_KnvQemYF",
    "outputId": "305e1532-de5b-4a33-f696-3ca35b2dadd5"
   },
   "outputs": [
    {
     "data": {
      "text/plain": [
       "<tf.Variable 'Variable:0' shape=(1, 3) dtype=int32, numpy=array([[1, 2, 3]])>"
      ]
     },
     "execution_count": 8,
     "metadata": {},
     "output_type": "execute_result"
    }
   ],
   "source": [
    "tf.Variable([[1, 2, 3]])"
   ]
  },
  {
   "cell_type": "code",
   "execution_count": 9,
   "metadata": {
    "colab": {
     "base_uri": "https://localhost:8080/",
     "height": 50
    },
    "colab_type": "code",
    "id": "VfRgXq_ZemYI",
    "outputId": "190e9e28-90e3-42e6-94fa-ccc2ed16cd25"
   },
   "outputs": [
    {
     "name": "stdout",
     "output_type": "stream",
     "text": [
      "Init value 1\n",
      "New value 2\n"
     ]
    }
   ],
   "source": [
    "v = tf.Variable(1)\n",
    "print('Init value', v.numpy())\n",
    "v.assign(2)\n",
    "print('New value', v.numpy())"
   ]
  },
  {
   "cell_type": "code",
   "execution_count": 10,
   "metadata": {
    "colab": {
     "base_uri": "https://localhost:8080/",
     "height": 67
    },
    "colab_type": "code",
    "id": "UnVY2yTMemYM",
    "outputId": "3f34b623-66ff-44b1-f9f2-48d47cfcb4b2"
   },
   "outputs": [
    {
     "name": "stdout",
     "output_type": "stream",
     "text": [
      "tf.Tensor(\n",
      "[[ 0.88333116]\n",
      " [-0.41250366]], shape=(2, 1), dtype=float64)\n"
     ]
    }
   ],
   "source": [
    "c = tf.convert_to_tensor(np.random.randn(2, 3))\n",
    "v = tf.Variable(np.random.randn(3, 1))\n",
    "print(tf.matmul(c, v))"
   ]
  },
  {
   "cell_type": "markdown",
   "metadata": {
    "colab_type": "text",
    "id": "hR11kOzpemYT"
   },
   "source": [
    "# Task 4: Automatic Differentiation\n",
    "\n",
    "Let's take a simple equation as an example:\n",
    "\\begin{equation}\n",
    "y = x^3 ; \\frac{dy}{dx} = 3x^2\n",
    "\\end{equation}"
   ]
  },
  {
   "cell_type": "code",
   "execution_count": 11,
   "metadata": {
    "colab": {
     "base_uri": "https://localhost:8080/",
     "height": 34
    },
    "colab_type": "code",
    "id": "k5ajy3b8emYT",
    "outputId": "13ecf1cb-72cb-4245-cb32-bad147bab6dd"
   },
   "outputs": [
    {
     "name": "stdout",
     "output_type": "stream",
     "text": [
      "gradient at x=3.0 is 27.0\n"
     ]
    }
   ],
   "source": [
    "x = tf.Variable(3.0)\n",
    "\n",
    "with tf.GradientTape() as tape:\n",
    "    y=x**3\n",
    "    \n",
    "dy_dx = tape.gradient(y, x)\n",
    "print('gradient at x={} is {}'.format(x.numpy(), dy_dx.numpy()))"
   ]
  },
  {
   "cell_type": "markdown",
   "metadata": {
    "colab_type": "text",
    "id": "67wEMiJ6emYW"
   },
   "source": [
    "What about higher order gradients?\n",
    "\n",
    "\\begin{equation}\n",
    "y = x^3 ; \\frac{dy}{dx} = 3x^2 ; \\frac{d^2 y}{dx^2} = 6x\n",
    "\\end{equation}"
   ]
  },
  {
   "cell_type": "code",
   "execution_count": 12,
   "metadata": {
    "colab": {
     "base_uri": "https://localhost:8080/",
     "height": 34
    },
    "colab_type": "code",
    "id": "4Z_D-hQvemYX",
    "outputId": "da0b327e-9188-4f0d-9b65-1dc1f91c43d4"
   },
   "outputs": [
    {
     "name": "stdout",
     "output_type": "stream",
     "text": [
      "2nd order gradient at x=3.0 is 18.0\n"
     ]
    }
   ],
   "source": [
    "x = tf.Variable(3.0)\n",
    "\n",
    "with tf.GradientTape() as t1:\n",
    "    with tf.GradientTape() as t2:\n",
    "        y=x**3\n",
    "    \n",
    "    dy_dx = t2.gradient(y, x)\n",
    "d2y_dx2 = t1.gradient(dy_dx, x)\n",
    "print('2nd order gradient at x={} is {}'.format(x.numpy(), d2y_dx2.numpy()))"
   ]
  },
  {
   "cell_type": "markdown",
   "metadata": {
    "colab_type": "text",
    "id": "-Ykx-BgPemYa"
   },
   "source": [
    "# Task 5: Watching Tensors"
   ]
  },
  {
   "cell_type": "code",
   "execution_count": 13,
   "metadata": {
    "colab": {
     "base_uri": "https://localhost:8080/",
     "height": 34
    },
    "colab_type": "code",
    "id": "AgzqdgOQemYb",
    "outputId": "fdb0d7dd-be89-4728-ddb4-53e8840b77da"
   },
   "outputs": [
    {
     "name": "stdout",
     "output_type": "stream",
     "text": [
      "None\n"
     ]
    }
   ],
   "source": [
    "x = tf.constant(3.0)\n",
    "\n",
    "with tf.GradientTape() as tape:\n",
    "    y=x**3\n",
    "    \n",
    "dy_dx = tape.gradient(y, x)\n",
    "print(dy_dx)"
   ]
  },
  {
   "cell_type": "code",
   "execution_count": 14,
   "metadata": {
    "colab": {
     "base_uri": "https://localhost:8080/",
     "height": 34
    },
    "colab_type": "code",
    "id": "8DGTAUq0emYe",
    "outputId": "da63085c-19de-4581-a630-0948c9ac2c3d"
   },
   "outputs": [
    {
     "name": "stdout",
     "output_type": "stream",
     "text": [
      "tf.Tensor(27.0, shape=(), dtype=float32)\n"
     ]
    }
   ],
   "source": [
    "x = tf.constant(3.0)\n",
    "\n",
    "with tf.GradientTape() as tape:\n",
    "    tape.watch(x)\n",
    "    y=x**3\n",
    "    \n",
    "dy_dx = tape.gradient(y, x)\n",
    "print(dy_dx)"
   ]
  },
  {
   "cell_type": "markdown",
   "metadata": {
    "colab_type": "text",
    "id": "P5NGaCbOemYn"
   },
   "source": [
    "# Task 6: Persistent Tape\n",
    "\n",
    "\\begin{equation}\n",
    "y = x^3 ; z = 2y ; \\frac{dz}{dx} = \\frac{dz}{dy} . \\frac{dy}{dx}\n",
    "\\end{equation}"
   ]
  },
  {
   "cell_type": "code",
   "execution_count": 15,
   "metadata": {
    "colab": {
     "base_uri": "https://localhost:8080/",
     "height": 84
    },
    "colab_type": "code",
    "id": "8wwmyGAnemYo",
    "outputId": "a008b9cb-ccdf-4478-edce-74d504a030ad"
   },
   "outputs": [
    {
     "name": "stdout",
     "output_type": "stream",
     "text": [
      "dz_dy 2.0\n",
      "dy_dx 27.0\n",
      "dz_dx 54.0\n"
     ]
    }
   ],
   "source": [
    "x = tf.Variable(3.0)\n",
    "\n",
    "with tf.GradientTape(persistent=True) as tape:\n",
    "    y=x**3\n",
    "    z=2*y\n",
    "    \n",
    "dz_dy = tape.gradient(z, y)\n",
    "dy_dx = tape.gradient(y, x)\n",
    "dz_dx = tape.gradient(z, x)\n",
    "\n",
    "del tape\n",
    "\n",
    "print('dz_dy', dz_dy.numpy())\n",
    "print('dy_dx', dy_dx.numpy())\n",
    "print('dz_dx', dz_dx.numpy())"
   ]
  },
  {
   "cell_type": "markdown",
   "metadata": {
    "colab_type": "text",
    "id": "V4Wv58PLemYr"
   },
   "source": [
    "# Task 7: Generating Data for Linear Regression\n",
    "\n",
    "Solve a simple linear equation:\n",
    "\n",
    "\\begin{equation}\n",
    "y = wx + b\n",
    "\\end{equation}"
   ]
  },
  {
   "cell_type": "code",
   "execution_count": 16,
   "metadata": {
    "colab": {},
    "colab_type": "code",
    "id": "NzZ_gt4uemYs"
   },
   "outputs": [],
   "source": [
    "true_w, true_b = 7., 4.\n",
    "\n",
    "def create_batch(batch_size=64):\n",
    "    x = np.random.randn(batch_size, 1)\n",
    "    y = np.random.randn(batch_size, 1) + true_w * x + true_b\n",
    "    return x, y\n"
   ]
  },
  {
   "cell_type": "code",
   "execution_count": 17,
   "metadata": {
    "colab": {
     "base_uri": "https://localhost:8080/",
     "height": 265
    },
    "colab_type": "code",
    "id": "LWpHL9aPemYv",
    "outputId": "89de06dd-7e70-40f1-bc5b-f25bf66062f3"
   },
   "outputs": [
    {
     "data": {
      "text/plain": [
       "[<matplotlib.lines.Line2D at 0x17d2e761f88>]"
      ]
     },
     "execution_count": 17,
     "metadata": {},
     "output_type": "execute_result"
    },
    {
     "data": {
      "image/png": "[encoded data removed]",
      "text/plain": [
       "<Figure size 432x288 with 1 Axes>"
      ]
     },
     "metadata": {
      "needs_background": "light"
     },
     "output_type": "display_data"
    }
   ],
   "source": [
    "x, y = create_batch()\n",
    "plt.plot(x, y, '.')"
   ]
  },
  {
   "cell_type": "markdown",
   "metadata": {
    "colab_type": "text",
    "id": "K-Vvh95gfifF"
   },
   "source": [
    "# Task 8: Linear Regression"
   ]
  },
  {
   "cell_type": "code",
   "execution_count": 18,
   "metadata": {
    "colab": {
     "base_uri": "https://localhost:8080/",
     "height": 185
    },
    "colab_type": "code",
    "id": "crsFa20DfgmQ",
    "outputId": "609e2882-7c1f-40fe-877e-d5896b99c2ab"
   },
   "outputs": [
    {
     "name": "stdout",
     "output_type": "stream",
     "text": [
      "Iter 0 w=9.833822250366211 b=1.2015225887298584 \n",
      "Iter 10 w=8.660594940185547 b=2.413501262664795 \n",
      "Iter 20 w=7.907715320587158 b=3.1397690773010254 \n",
      "Iter 30 w=7.5054707527160645 b=3.532869815826416 \n",
      "Iter 40 w=7.244521141052246 b=3.6955442428588867 \n",
      "Iter 50 w=7.118509769439697 b=3.8369922637939453 \n",
      "Iter 60 w=7.065906047821045 b=3.908616065979004 \n",
      "Iter 70 w=7.016490459442139 b=3.9254112243652344 \n",
      "Iter 80 w=6.989435195922852 b=3.970294952392578 \n",
      "Iter 90 w=7.003946781158447 b=3.9941658973693848 \n"
     ]
    }
   ],
   "source": [
    "iterations = 100\n",
    "lr = 0.03\n",
    "\n",
    "w_history = []\n",
    "b_history = []\n",
    "\n",
    "w = tf.Variable(10.0)\n",
    "b = tf.Variable(1.0)\n",
    "\n",
    "for i in range(0, iterations):\n",
    "    x_batch, y_batch = create_batch()\n",
    "    x_batch = tf.convert_to_tensor(x_batch, dtype=tf.float32)\n",
    "    y_batch = tf.convert_to_tensor(y_batch, dtype=tf.float32)\n",
    "    with tf.GradientTape(persistent=True) as tape:\n",
    "        y = b + w * x_batch\n",
    "        loss = tf.reduce_mean(tf.square(y - y_batch))\n",
    "    dw = tape.gradient(loss, w)\n",
    "    db = tape.gradient(loss, b)\n",
    "    \n",
    "    del tape\n",
    "    \n",
    "    w.assign_sub(lr*dw)\n",
    "    b.assign_sub(lr*db)\n",
    "    \n",
    "    w_history.append(w.numpy())\n",
    "    b_history.append(b.numpy())\n",
    "    \n",
    "    if i%10 ==0:\n",
    "        print('Iter {} w={} b={} '.format(i, w.numpy(), b.numpy()) )\n",
    "    \n",
    "    \n",
    "    \n",
    "    \n",
    "    \n",
    "    \n",
    "    \n",
    "    \n",
    "    \n",
    "    \n",
    "    \n",
    "    \n",
    "    \n"
   ]
  },
  {
   "cell_type": "code",
   "execution_count": 19,
   "metadata": {
    "colab": {
     "base_uri": "https://localhost:8080/",
     "height": 388
    },
    "colab_type": "code",
    "id": "n7-ke23kf5rh",
    "outputId": "ea2aa04b-2356-4e28-f915-9d7b74e237b3"
   },
   "outputs": [
    {
     "data": {
      "image/png": "[encoded data removed]",
      "text/plain": [
       "<Figure size 432x288 with 1 Axes>"
      ]
     },
     "metadata": {
      "needs_background": "light"
     },
     "output_type": "display_data"
    }
   ],
   "source": [
    "plt.plot(range(iterations), w_history, label='Learned w')\n",
    "plt.plot(range(iterations), b_history, label='Learned b')\n",
    "plt.plot(range(iterations), [true_w] * iterations, label='True w')\n",
    "plt.plot(range(iterations), [true_b] * iterations, label='True b')\n",
    "plt.legend()\n",
    "plt.show()"
   ]
  },
  {
   "cell_type": "code",
   "execution_count": 22,
   "metadata": {},
   "outputs": [
    {
     "name": "stdout",
     "output_type": "stream",
     "text": [
      "7.0\n"
     ]
    }
   ],
   "source": [
    "x = tf.Variable(2.0)\n",
    "with tf.GradientTape() as tape:\n",
    "    y= 3*x + x**2\n",
    "dy_dx =tape.gradient(y, x)\n",
    "print(dy_dx.numpy())"
   ]
  },
  {
   "cell_type": "code",
   "execution_count": null,
   "metadata": {},
   "outputs": [],
   "source": []
  },
  {
   "cell_type": "code",
   "execution_count": null,
   "metadata": {},
   "outputs": [],
   "source": []
  },
  {
   "cell_type": "code",
   "execution_count": null,
   "metadata": {},
   "outputs": [],
   "source": []
  },
  {
   "cell_type": "code",
   "execution_count": null,
   "metadata": {},
   "outputs": [],
   "source": []
  },
  {
   "cell_type": "code",
   "execution_count": null,
   "metadata": {},
   "outputs": [],
   "source": []
  },
  {
   "cell_type": "code",
   "execution_count": null,
   "metadata": {},
   "outputs": [],
   "source": []
  },
  {
   "cell_type": "code",
   "execution_count": null,
   "metadata": {},
   "outputs": [],
   "source": []
  },
  {
   "cell_type": "code",
   "execution_count": null,
   "metadata": {},
   "outputs": [],
   "source": []
  },
  {
   "cell_type": "code",
   "execution_count": null,
   "metadata": {},
   "outputs": [],
   "source": []
  },
  {
   "cell_type": "code",
   "execution_count": null,
   "metadata": {},
   "outputs": [],
   "source": []
  },
  {
   "cell_type": "code",
   "execution_count": null,
   "metadata": {},
   "outputs": [],
   "source": []
  },
  {
   "cell_type": "code",
   "execution_count": null,
   "metadata": {},
   "outputs": [],
   "source": []
  }
 ],
 "metadata": {
  "colab": {
   "name": "Automatic Differentiation with TensorFlow.ipynb",
   "provenance": []
  },
  "kernelspec": {
   "display_name": "Python 3",
   "language": "python",
   "name": "python3"
  },
  "language_info": {
   "codemirror_mode": {
    "name": "ipython",
    "version": 3
   },
   "file_extension": ".py",
   "mimetype": "text/x-python",
   "name": "python",
   "nbconvert_exporter": "python",
   "pygments_lexer": "ipython3",
   "version": "3.7.6"
  }
 },
 "nbformat": 4,
 "nbformat_minor": 1
}
